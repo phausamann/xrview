{
  "cells": [
    {
      "cell_type": "code",
      "execution_count": null,
      "metadata": {
        "pycharm": {}
      },
      "outputs": [],
      "source": "import numpy as np\nimport xarray as xr\n\nimport xrview\nfrom xrview.glyphs import Line\nfrom xrview.interactions import CoordValSelect"
    },
    {
      "cell_type": "code",
      "execution_count": null,
      "metadata": {
        "pycharm": {}
      },
      "outputs": [],
      "source": "x \u003d np.linspace(0, 1, 100)\ny \u003d np.vstack([np.sqrt(x), x, x**2]).T\nc \u003d np.sin(10*np.pi*x)\n\nda \u003d xr.DataArray(\n    y, dims\u003d([\u0027x\u0027, \u0027f\u0027]), \n    coords\u003d{\u0027x\u0027: x, \u0027f\u0027: [\u0027sqrt(x)\u0027, \u0027x\u0027, \u0027x^2\u0027], \u0027sin\u0027: (\u0027x\u0027, c), \n            \u0027Segment\u0027: (\u0027x\u0027, [\u0027START\u0027]*33 + [\u0027MIDDLE\u0027]*34 + [\u0027END\u0027]*33)})"
    },
    {
      "cell_type": "markdown",
      "metadata": {
        "pycharm": {}
      },
      "source": [
        "### Interaction"
      ]
    },
    {
      "cell_type": "code",
      "execution_count": null,
      "metadata": {
        "pycharm": {}
      },
      "outputs": [],
      "source": "plot \u003d xrview.plot(\n    da, x\u003d\u0027x\u0027, output\u003d\u0027notebook\u0027, server\u003dTrue, ncols\u003d2)\nplot.add_figure(Line(), da.sin)\nplot.add_interaction(CoordValSelect(\u0027Segment\u0027, location\u003d\u0027below\u0027))\nplot.show(notebook_url\u003d\u0027http://localhost:8888\u0027)\n"
    }
  ],
  "metadata": {
    "kernelspec": {
      "display_name": "Python 3",
      "language": "python",
      "name": "python3"
    },
    "language_info": {
      "codemirror_mode": {
        "name": "ipython",
        "version": 3
      },
      "file_extension": ".py",
      "mimetype": "text/x-python",
      "name": "python",
      "nbconvert_exporter": "python",
      "pygments_lexer": "ipython3",
      "version": "3.6.6"
    }
  },
  "nbformat": 4,
  "nbformat_minor": 2
}