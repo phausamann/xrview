{
 "cells": [
  {
   "cell_type": "code",
   "execution_count": null,
   "metadata": {
    "pycharm": {}
   },
   "outputs": [],
   "source": [
    "import numpy as np\n",
    "import xarray as xr\n",
    "\n",
    "import xrview\n",
    "from xrview.interactions import CoordValSelect"
   ]
  },
  {
   "cell_type": "code",
   "execution_count": null,
   "metadata": {
    "pycharm": {}
   },
   "outputs": [],
   "source": [
    "x = np.linspace(0, 1, 100)\n",
    "y = np.vstack([np.sqrt(x), x, x**2]).T\n",
    "c = np.sin(10*np.pi*x)\n",
    "\n",
    "da = xr.DataArray(\n",
    "    y, dims=(['x', 'f']), \n",
    "    coords={'x': x, 'f': ['sqrt(x)', 'x', 'x^2'], 'sin': ('x', c), \n",
    "            'Segment': ('x', ['START']*33 + ['MIDDLE']*34 + ['END']*33)})"
   ]
  },
  {
   "cell_type": "markdown",
   "metadata": {
    "pycharm": {}
   },
   "source": [
    "### Interaction"
   ]
  },
  {
   "cell_type": "code",
   "execution_count": null,
   "metadata": {
    "pycharm": {}
   },
   "outputs": [],
   "source": [
    "plot = xrview.plot(\n",
    "    da, x='x', output='notebook', server=True, ncols=2)\n",
    "plot.add_figure(da.sin)\n",
    "plot.add_interaction(CoordValSelect('Segment', location='below'))\n",
    "plot.show(notebook_url='http://localhost:8888')\n"
   ]
  }
 ],
 "metadata": {
  "kernelspec": {
   "display_name": "Python 3",
   "language": "python",
   "name": "python3"
  },
  "language_info": {
   "codemirror_mode": {
    "name": "ipython",
    "version": 3
   },
   "file_extension": ".py",
   "mimetype": "text/x-python",
   "name": "python",
   "nbconvert_exporter": "python",
   "pygments_lexer": "ipython3",
   "version": "3.6.6"
  },
  "pycharm": {
   "stem_cell": {
    "cell_type": "raw",
    "source": [],
    "metadata": {
     "collapsed": false
    }
   }
  }
 },
 "nbformat": 4,
 "nbformat_minor": 2
}
